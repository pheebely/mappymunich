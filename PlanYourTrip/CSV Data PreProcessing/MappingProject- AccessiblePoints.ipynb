{
 "cells": [
  {
   "cell_type": "code",
   "execution_count": 477,
   "metadata": {},
   "outputs": [],
   "source": [
    "# import requests\n",
    "import pandas as pd\n",
    "import numpy as np\n",
    "# import json\n",
    "# import datetime as dt\n",
    "# !pip install pandas==1.4\n"
   ]
  },
  {
   "cell_type": "code",
   "execution_count": 478,
   "metadata": {},
   "outputs": [
    {
     "name": "stdout",
     "output_type": "stream",
     "text": [
      "13771\n"
     ]
    }
   ],
   "source": [
    "df = pd.read_csv('MunichAccessiblePoints_CleanBefore.csv',low_memory=False, decimal=';')\n",
    "print(len(df))"
   ]
  },
  {
   "cell_type": "code",
   "execution_count": 479,
   "metadata": {},
   "outputs": [
    {
     "name": "stdout",
     "output_type": "stream",
     "text": [
      "5602\n"
     ]
    }
   ],
   "source": [
    "\"\"\"\n",
    "DROP ROWS\n",
    "\"\"\"\n",
    "# df has 13770 rows at the initial \n",
    "\n",
    "# Drop rows with empty names, 11249 rows left\n",
    "df = df.dropna(subset=['name'])\n",
    "\n",
    "# Drop rows with duplicate names, 8511 rows left\n",
    "df = df.drop_duplicates(subset=['name'])\n",
    "\n",
    "# Drop 'wheelchait' == \"no\", 5553 rows left\n",
    "df = df.drop(df.loc[df['wheelchair']== \"no\"].index)\n",
    "print(len(df))\n",
    "\n",
    "# Select certain columns\n",
    "df = df[[\"Latitude\", \"Longitude\",\"name\",\"wheelchair\",\"wheelchair:description\",\n",
    "           \"amenity\",\"opening_hours\",\"tourism\",\"atm\",\"website\",\"cuisine\",\"toilets:wheelchair\",\n",
    "           \"subway\",\"tram\",\"bus\",\"railway\",\"public_transport\"]]\n",
    "\n",
    "# Drop rows with \"amenity == na and tourism == na\", 2665 rows left\n",
    "df = df.drop(df.loc[df['amenity'].isna() & df['tourism'].isna() & df['public_transport'].isna()].index)\n"
   ]
  },
  {
   "cell_type": "code",
   "execution_count": 480,
   "metadata": {},
   "outputs": [
    {
     "data": {
      "text/plain": [
       "stop_position    443\n",
       "station           48\n",
       "platform          37\n",
       "Name: public_transport, dtype: int64"
      ]
     },
     "execution_count": 480,
     "metadata": {},
     "output_type": "execute_result"
    }
   ],
   "source": [
    "# sorted(df)\n",
    "df[\"public_transport\"].value_counts()"
   ]
  },
  {
   "cell_type": "code",
   "execution_count": 481,
   "metadata": {},
   "outputs": [],
   "source": [
    "\"\"\" \n",
    "Drop certain amentity types\n",
    "\"\"\"\n",
    "df = df.drop(df.loc[df['amenity']== \"bicycle_rental\"].index)\n",
    "df = df.drop(df.loc[df['amenity']== \"brothel\"].index)\n",
    "df = df.drop(df.loc[df['amenity']== \"car_rental\"].index)\n",
    "df = df.drop(df.loc[df['amenity']== \"car_sharing\"].index)\n",
    "df = df.drop(df.loc[df['amenity']== \"car_wash\"].index)\n",
    "df = df.drop(df.loc[df['amenity']== \"dentist\"].index)\n",
    "df = df.drop(df.loc[df['amenity']== \"doctor\"].index)\n",
    "df = df.drop(df.loc[df['amenity']== \"driving_school\"].index)\n",
    "df = df.drop(df.loc[df['amenity']== \"fixme\"].index)\n",
    "df = df.drop(df.loc[df['amenity']== \"fuel\"].index)\n",
    "df = df.drop(df.loc[df['amenity']== \"kindergarten\"].index)\n",
    "df = df.drop(df.loc[df['amenity']== \"gambling\"].index)\n",
    "df = df.drop(df.loc[df['amenity']== \"school\"].index)"
   ]
  },
  {
   "cell_type": "code",
   "execution_count": 482,
   "metadata": {},
   "outputs": [],
   "source": [
    "\"\"\"\n",
    "SORT\n",
    "\"\"\"\n",
    "# Sort all data based on the ascending names\n",
    "df = df.sort_values(by=['name'])"
   ]
  },
  {
   "cell_type": "code",
   "execution_count": 483,
   "metadata": {},
   "outputs": [],
   "source": [
    "\"\"\"\n",
    "CHANGE the LAYOUT of VALUES\n",
    "\"\"\"\n",
    "\n",
    "df[\"amenity\"] = df[\"amenity\"].str.title()\n",
    "df[\"tourism\"] = df[\"tourism\"].str.title()\n",
    "df[\"cuisine\"] = df[\"cuisine\"].str.title()\n",
    "\n",
    "# df= df.replace({\"Post_Office\": \"Post Office\", \"Public_Bookcase\": \"Public Bookcase\",\"Fast_Food\": \"Fast Food\",\n",
    "#                \"Internet_Cafe\": \"Cafe\"})\n",
    "\n",
    "df['toilets:wheelchair'] = df['toilets:wheelchair'].replace({\"yes\":\"Fully Wheelchair Accessible\", \"limited\":\"Partially Wheelchair Accessible\"})\n",
    "\n",
    "\n",
    "\"\"\"\n",
    "Would show the bug: can only read 'str' value\n",
    "if we don't put [decimal=';'] into [read_csv]\n",
    "\"\"\"\n",
    "df = df.apply(lambda x: x.str.replace(';',',')) # Replace all ';' into ',', so filter function can read them \n",
    "df = df.apply(lambda x: x.str.replace('_',' ')) # Replace all '_' into ',', so filter function can read them \n"
   ]
  },
  {
   "cell_type": "code",
   "execution_count": 484,
   "metadata": {},
   "outputs": [],
   "source": [
    "df['subway'] = df['subway'].replace({\"yes\":\"Subway Station\"})\n",
    "df['tram'] = df['tram'].replace({\"yes\":\"Tram Stop\"})\n",
    "df['bus'] = df['bus'].replace({\"yes\":\"Bus Stop\"})\n",
    "df['railway'] = df['railway'].replace({\"station\":\"Train Station\", \"tram stop\":np.nan, \"stop\":np.nan, \"halt\":np.nan})\n",
    "\n",
    "# Merge values in each public traffic related column into a new column and seperate them by comma ','\n",
    "df['PublicTraffic'] = df[['subway', 'tram', 'bus', 'railway']].apply(lambda x: ' ,'.join(x[x.notnull()]), axis = 1)\n",
    "df['PublicTraffic'].replace('', np.nan, inplace=True)"
   ]
  },
  {
   "cell_type": "code",
   "execution_count": 485,
   "metadata": {},
   "outputs": [],
   "source": [
    "df[\"tourism\"].value_counts()\n",
    "df['tourism'] = df['tourism'].replace({\"Information\":\"Tourist Information Center\"})\n",
    "\n",
    "df['amenity'] = df['amenity'].replace({\"Bus Station\":np.nan})"
   ]
  },
  {
   "cell_type": "code",
   "execution_count": 486,
   "metadata": {},
   "outputs": [
    {
     "name": "stdout",
     "output_type": "stream",
     "text": [
      "2993\n"
     ]
    }
   ],
   "source": [
    "# Merge values in each public traffic related column into a new column and seperate them by comma ','\n",
    "df['What'] = df[['amenity', 'tourism','PublicTraffic']].apply(lambda x: ','.join(x[x.notnull()]), axis = 1)\n",
    "print(len(df))"
   ]
  },
  {
   "cell_type": "code",
   "execution_count": 487,
   "metadata": {},
   "outputs": [
    {
     "name": "stdout",
     "output_type": "stream",
     "text": [
      "2993\n"
     ]
    }
   ],
   "source": [
    "df = df.drop(df.loc[df['What']== np.nan].index)\n",
    "print(len(df))"
   ]
  },
  {
   "cell_type": "code",
   "execution_count": 493,
   "metadata": {},
   "outputs": [
    {
     "name": "stdout",
     "output_type": "stream",
     "text": [
      "2968\n"
     ]
    }
   ],
   "source": [
    "\"\"\"\n",
    "Pandas will recognise a value as null if it is a np.nan object, which will print as NaN in the DataFrame. \n",
    "Your missing values are probably empty strings, which Pandas doesn't recognise as null. \n",
    "To fix this, you can convert the empty stings (or whatever is in your empty cells) to np.nan objects using replace(), \n",
    "and then call dropna()on your DataFrame to delete rows with null tenants.\n",
    "\"\"\"\n",
    "\n",
    "df['What'].replace('', np.nan, inplace=True)\n",
    "df.dropna(subset=['What'], inplace=True)\n",
    "\n",
    "df = df.apply(lambda x: x.str.replace('Of ','of ')) \n",
    "df = df.apply(lambda x: x.str.replace('Atm ','ATM')) \n",
    "print(len(df))"
   ]
  },
  {
   "cell_type": "code",
   "execution_count": 494,
   "metadata": {},
   "outputs": [
    {
     "data": {
      "text/plain": [
       "Restaurant           751\n",
       "Cafe                 256\n",
       "Fast Food            227\n",
       "Pharmacy             225\n",
       "Doctors              152\n",
       "Pub                   81\n",
       "Bar                   65\n",
       "Bank                  40\n",
       "Social Facility       37\n",
       "Ice Cream             35\n",
       "Library               33\n",
       "Post Office           32\n",
       "Parking               25\n",
       "Cinema                23\n",
       "Place of Worship      23\n",
       "Community Centre      22\n",
       "Biergarten            17\n",
       "Veterinary            16\n",
       "Hospital              16\n",
       "Marketplace           15\n",
       "Arts Centre           14\n",
       "Theatre               14\n",
       "Nightclub             12\n",
       "Atm                   11\n",
       "Fountain              10\n",
       "Clinic                 9\n",
       "University             9\n",
       "Police                 7\n",
       "Toilets                6\n",
       "Parking Entrance       5\n",
       "Vending Machine        4\n",
       "Childcare              4\n",
       "College                3\n",
       "Canteen                3\n",
       "Townhall               3\n",
       "Drinking Water         3\n",
       "Events Venue           3\n",
       "Taxi                   2\n",
       "Internet Cafe          2\n",
       "Courthouse             2\n",
       "Bureau De Change       1\n",
       "Restaurant,Bar         1\n",
       "Charging Station       1\n",
       "Bench                  1\n",
       "Conference Centre      1\n",
       "Music School           1\n",
       "Hookah Lounge          1\n",
       "Parcel Locker          1\n",
       "Healthcare             1\n",
       "Casino                 1\n",
       "Public Bookcase        1\n",
       "Name: amenity, dtype: int64"
      ]
     },
     "execution_count": 494,
     "metadata": {},
     "output_type": "execute_result"
    }
   ],
   "source": [
    "df[\"amenity\"].value_counts()"
   ]
  },
  {
   "cell_type": "code",
   "execution_count": 495,
   "metadata": {},
   "outputs": [],
   "source": [
    "pd.set_option(\"display.max_rows\", None)\n",
    "# print(df[\"cuisine\"].value_counts())"
   ]
  },
  {
   "cell_type": "code",
   "execution_count": 496,
   "metadata": {},
   "outputs": [],
   "source": [
    "# df1 = df[\"wheelchair\"].str.title()"
   ]
  },
  {
   "cell_type": "code",
   "execution_count": null,
   "metadata": {},
   "outputs": [],
   "source": []
  },
  {
   "cell_type": "code",
   "execution_count": 497,
   "metadata": {},
   "outputs": [],
   "source": [
    "# Save pandas data as a new CSV file\n",
    "\n",
    "df.to_csv('points.csv',header=True)"
   ]
  },
  {
   "cell_type": "code",
   "execution_count": null,
   "metadata": {},
   "outputs": [],
   "source": []
  },
  {
   "cell_type": "code",
   "execution_count": null,
   "metadata": {},
   "outputs": [],
   "source": []
  },
  {
   "cell_type": "code",
   "execution_count": null,
   "metadata": {},
   "outputs": [],
   "source": []
  },
  {
   "cell_type": "code",
   "execution_count": null,
   "metadata": {},
   "outputs": [],
   "source": []
  }
 ],
 "metadata": {
  "kernelspec": {
   "display_name": "Python 3",
   "language": "python",
   "name": "python3"
  },
  "language_info": {
   "codemirror_mode": {
    "name": "ipython",
    "version": 3
   },
   "file_extension": ".py",
   "mimetype": "text/x-python",
   "name": "python",
   "nbconvert_exporter": "python",
   "pygments_lexer": "ipython3",
   "version": "3.8.5"
  }
 },
 "nbformat": 4,
 "nbformat_minor": 4
}
